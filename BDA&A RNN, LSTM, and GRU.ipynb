{
 "cells": [
  {
   "cell_type": "markdown",
   "id": "233ac47e",
   "metadata": {},
   "source": [
    "# Real-World Data Processing with RNN, LSTM, and GRU in PyTorch\n"
   ]
  },
  {
   "cell_type": "code",
   "execution_count": 1,
   "id": "79d60f94",
   "metadata": {},
   "outputs": [
    {
     "name": "stdout",
     "output_type": "stream",
     "text": [
      "Requirement already satisfied: torch in c:\\users\\prathyusha ragav a\\anaconda3\\lib\\site-packages (2.6.0)\n",
      "Requirement already satisfied: sympy==1.13.1 in c:\\users\\prathyusha ragav a\\anaconda3\\lib\\site-packages (from torch) (1.13.1)\n",
      "Requirement already satisfied: networkx in c:\\users\\prathyusha ragav a\\anaconda3\\lib\\site-packages (from torch) (2.6.3)\n",
      "Requirement already satisfied: jinja2 in c:\\users\\prathyusha ragav a\\anaconda3\\lib\\site-packages (from torch) (2.11.3)\n",
      "Requirement already satisfied: typing-extensions>=4.10.0 in c:\\users\\prathyusha ragav a\\anaconda3\\lib\\site-packages (from torch) (4.12.2)\n",
      "Requirement already satisfied: filelock in c:\\users\\prathyusha ragav a\\anaconda3\\lib\\site-packages (from torch) (3.3.1)\n",
      "Requirement already satisfied: fsspec in c:\\users\\prathyusha ragav a\\anaconda3\\lib\\site-packages (from torch) (2021.10.1)\n",
      "Requirement already satisfied: mpmath<1.4,>=1.1.0 in c:\\users\\prathyusha ragav a\\anaconda3\\lib\\site-packages (from sympy==1.13.1->torch) (1.2.1)\n",
      "Requirement already satisfied: MarkupSafe>=0.23 in c:\\users\\prathyusha ragav a\\anaconda3\\lib\\site-packages (from jinja2->torch) (1.1.1)\n",
      "Collecting kagglehub\n",
      "  Downloading kagglehub-0.3.7-py3-none-any.whl (54 kB)\n",
      "Requirement already satisfied: tqdm in c:\\users\\prathyusha ragav a\\anaconda3\\lib\\site-packages (from kagglehub) (4.62.3)\n",
      "Requirement already satisfied: requests in c:\\users\\prathyusha ragav a\\anaconda3\\lib\\site-packages (from kagglehub) (2.26.0)\n",
      "Collecting model-signing\n",
      "  Downloading model_signing-0.2.0-py3-none-any.whl (63 kB)\n",
      "Requirement already satisfied: packaging in c:\\users\\prathyusha ragav a\\anaconda3\\lib\\site-packages (from kagglehub) (21.0)\n",
      "Collecting sigstore\n",
      "  Downloading sigstore-3.6.1-py3-none-any.whl (99 kB)\n",
      "Requirement already satisfied: cryptography in c:\\users\\prathyusha ragav a\\anaconda3\\lib\\site-packages (from model-signing->kagglehub) (3.4.8)\n",
      "Requirement already satisfied: typing-extensions in c:\\users\\prathyusha ragav a\\anaconda3\\lib\\site-packages (from model-signing->kagglehub) (4.12.2)\n",
      "Collecting in-toto-attestation\n",
      "  Downloading in_toto_attestation-0.9.3-py3-none-any.whl (13 kB)\n",
      "Requirement already satisfied: cffi>=1.12 in c:\\users\\prathyusha ragav a\\anaconda3\\lib\\site-packages (from cryptography->model-signing->kagglehub) (1.14.6)\n",
      "Requirement already satisfied: pycparser in c:\\users\\prathyusha ragav a\\anaconda3\\lib\\site-packages (from cffi>=1.12->cryptography->model-signing->kagglehub) (2.20)\n",
      "Collecting protobuf\n",
      "  Downloading protobuf-5.29.3-cp39-cp39-win_amd64.whl (434 kB)\n",
      "Requirement already satisfied: pyparsing>=2.0.2 in c:\\users\\prathyusha ragav a\\anaconda3\\lib\\site-packages (from packaging->kagglehub) (3.0.4)\n",
      "Requirement already satisfied: charset-normalizer~=2.0.0 in c:\\users\\prathyusha ragav a\\anaconda3\\lib\\site-packages (from requests->kagglehub) (2.0.4)\n",
      "Requirement already satisfied: urllib3<1.27,>=1.21.1 in c:\\users\\prathyusha ragav a\\anaconda3\\lib\\site-packages (from requests->kagglehub) (1.26.7)\n",
      "Requirement already satisfied: idna<4,>=2.5 in c:\\users\\prathyusha ragav a\\anaconda3\\lib\\site-packages (from requests->kagglehub) (3.2)\n",
      "Requirement already satisfied: certifi>=2017.4.17 in c:\\users\\prathyusha ragav a\\anaconda3\\lib\\site-packages (from requests->kagglehub) (2021.10.8)\n",
      "Collecting cryptography\n",
      "  Downloading cryptography-44.0.1-cp39-abi3-win_amd64.whl (3.2 MB)\n",
      "Collecting pyasn1~=0.6\n",
      "  Downloading pyasn1-0.6.1-py3-none-any.whl (83 kB)\n",
      "Requirement already satisfied: pyjwt>=2.1 in c:\\users\\prathyusha ragav a\\anaconda3\\lib\\site-packages (from sigstore->model-signing->kagglehub) (2.1.0)\n",
      "Collecting rich~=13.0\n",
      "  Downloading rich-13.9.4-py3-none-any.whl (242 kB)\n",
      "Collecting pyOpenSSL>=23.0.0\n",
      "  Downloading pyOpenSSL-25.0.0-py3-none-any.whl (56 kB)\n",
      "Collecting rfc8785~=0.1.2\n",
      "  Downloading rfc8785-0.1.4-py3-none-any.whl (9.2 kB)\n",
      "Collecting sigstore-rekor-types==0.0.18\n",
      "  Downloading sigstore_rekor_types-0.0.18-py3-none-any.whl (20 kB)\n",
      "Collecting platformdirs~=4.2\n",
      "  Downloading platformdirs-4.3.6-py3-none-any.whl (18 kB)\n",
      "Collecting sigstore-protobuf-specs==0.3.2\n",
      "  Downloading sigstore_protobuf_specs-0.3.2-py3-none-any.whl (24 kB)\n",
      "Collecting importlib_resources~=5.7\n",
      "  Downloading importlib_resources-5.13.0-py3-none-any.whl (32 kB)\n",
      "Collecting id>=1.1.0\n",
      "  Downloading id-1.5.0-py3-none-any.whl (13 kB)\n",
      "Collecting pydantic<3,>=2\n",
      "  Downloading pydantic-2.10.6-py3-none-any.whl (431 kB)\n",
      "Collecting tuf~=5.0\n",
      "  Downloading tuf-5.1.0-py3-none-any.whl (50 kB)\n",
      "Collecting rfc3161-client~=0.1.2\n",
      "  Downloading rfc3161_client-0.1.2-cp39-abi3-win_amd64.whl (2.2 MB)\n",
      "Collecting betterproto==2.0.0b6\n",
      "  Downloading betterproto-2.0.0b6-py3-none-any.whl (64 kB)\n",
      "Requirement already satisfied: python-dateutil<3.0,>=2.8 in c:\\users\\prathyusha ragav a\\anaconda3\\lib\\site-packages (from betterproto==2.0.0b6->sigstore-protobuf-specs==0.3.2->sigstore->model-signing->kagglehub) (2.8.2)\n"
     ]
    },
    {
     "name": "stderr",
     "output_type": "stream",
     "text": [
      "ERROR: pip's dependency resolver does not currently take into account all the packages that are installed. This behaviour is the source of the following dependency conflicts.\n",
      "spyder 5.1.5 requires pyqt5<5.13, which is not installed.\n",
      "spyder 5.1.5 requires pyqtwebengine<5.13, which is not installed.\n"
     ]
    },
    {
     "name": "stdout",
     "output_type": "stream",
     "text": [
      "Collecting grpclib<0.5.0,>=0.4.1\n",
      "  Downloading grpclib-0.4.7.tar.gz (61 kB)\n",
      "  Installing build dependencies: started\n",
      "  Installing build dependencies: finished with status 'done'\n",
      "  Getting requirements to build wheel: started\n",
      "  Getting requirements to build wheel: finished with status 'done'\n",
      "    Preparing wheel metadata: started\n",
      "    Preparing wheel metadata: finished with status 'done'\n",
      "Collecting multidict\n",
      "  Downloading multidict-6.1.0-cp39-cp39-win_amd64.whl (28 kB)\n",
      "Collecting h2<5,>=3.1.0\n",
      "  Downloading h2-4.2.0-py3-none-any.whl (60 kB)\n",
      "Collecting hpack<5,>=4.1\n",
      "  Downloading hpack-4.1.0-py3-none-any.whl (34 kB)\n",
      "Collecting hyperframe<7,>=6.1\n",
      "  Downloading hyperframe-6.1.0-py3-none-any.whl (13 kB)\n",
      "Requirement already satisfied: zipp>=3.1.0 in c:\\users\\prathyusha ragav a\\anaconda3\\lib\\site-packages (from importlib_resources~=5.7->sigstore->model-signing->kagglehub) (3.6.0)\n",
      "Collecting pydantic-core==2.27.2\n",
      "  Downloading pydantic_core-2.27.2-cp39-cp39-win_amd64.whl (2.0 MB)\n",
      "Collecting annotated-types>=0.6.0\n",
      "  Downloading annotated_types-0.7.0-py3-none-any.whl (13 kB)\n",
      "Collecting email-validator>=2.0.0\n",
      "  Downloading email_validator-2.2.0-py3-none-any.whl (33 kB)\n",
      "Collecting dnspython>=2.0.0\n",
      "  Downloading dnspython-2.7.0-py3-none-any.whl (313 kB)\n",
      "Requirement already satisfied: six>=1.5 in c:\\users\\prathyusha ragav a\\anaconda3\\lib\\site-packages (from python-dateutil<3.0,>=2.8->betterproto==2.0.0b6->sigstore-protobuf-specs==0.3.2->sigstore->model-signing->kagglehub) (1.16.0)\n",
      "Collecting markdown-it-py>=2.2.0\n",
      "  Downloading markdown_it_py-3.0.0-py3-none-any.whl (87 kB)\n",
      "Collecting pygments<3.0.0,>=2.13.0\n",
      "  Downloading pygments-2.19.1-py3-none-any.whl (1.2 MB)\n",
      "Collecting mdurl~=0.1\n",
      "  Downloading mdurl-0.1.2-py3-none-any.whl (10.0 kB)\n",
      "Collecting securesystemslib~=1.0\n",
      "  Downloading securesystemslib-1.2.0-py3-none-any.whl (870 kB)\n",
      "Requirement already satisfied: colorama in c:\\users\\prathyusha ragav a\\anaconda3\\lib\\site-packages (from tqdm->kagglehub) (0.4.4)\n",
      "Building wheels for collected packages: grpclib\n",
      "  Building wheel for grpclib (PEP 517): started\n",
      "  Building wheel for grpclib (PEP 517): finished with status 'done'\n",
      "  Created wheel for grpclib: filename=grpclib-0.4.7-py3-none-any.whl size=76255 sha256=b1293e9ff770d1d13900c704d9960e1c34bd7446a309aa50da4dbe9fabe643dc\n",
      "  Stored in directory: c:\\users\\prathyusha ragav a\\appdata\\local\\pip\\cache\\wheels\\2f\\ea\\a0\\8b06690b5111389e46b61f9636f4444c1304efd44918c2712c\n",
      "Successfully built grpclib\n",
      "Installing collected packages: hyperframe, hpack, pydantic-core, multidict, h2, dnspython, annotated-types, pydantic, mdurl, grpclib, email-validator, securesystemslib, pygments, markdown-it-py, cryptography, betterproto, tuf, sigstore-rekor-types, sigstore-protobuf-specs, rich, rfc8785, rfc3161-client, pyOpenSSL, pyasn1, protobuf, platformdirs, importlib-resources, id, sigstore, in-toto-attestation, model-signing, kagglehub\n",
      "  Attempting uninstall: pygments\n",
      "    Found existing installation: Pygments 2.10.0\n",
      "    Uninstalling Pygments-2.10.0:\n",
      "      Successfully uninstalled Pygments-2.10.0\n",
      "  Attempting uninstall: cryptography\n",
      "    Found existing installation: cryptography 3.4.8\n",
      "    Uninstalling cryptography-3.4.8:\n",
      "      Successfully uninstalled cryptography-3.4.8\n",
      "  Attempting uninstall: pyOpenSSL\n",
      "    Found existing installation: pyOpenSSL 21.0.0\n",
      "    Uninstalling pyOpenSSL-21.0.0:\n",
      "      Successfully uninstalled pyOpenSSL-21.0.0\n",
      "Successfully installed annotated-types-0.7.0 betterproto-2.0.0b6 cryptography-44.0.1 dnspython-2.7.0 email-validator-2.2.0 grpclib-0.4.7 h2-4.2.0 hpack-4.1.0 hyperframe-6.1.0 id-1.5.0 importlib-resources-5.13.0 in-toto-attestation-0.9.3 kagglehub-0.3.7 markdown-it-py-3.0.0 mdurl-0.1.2 model-signing-0.2.0 multidict-6.1.0 platformdirs-4.3.6 protobuf-5.29.3 pyOpenSSL-25.0.0 pyasn1-0.6.1 pydantic-2.10.6 pydantic-core-2.27.2 pygments-2.19.1 rfc3161-client-0.1.2 rfc8785-0.1.4 rich-13.9.4 securesystemslib-1.2.0 sigstore-3.6.1 sigstore-protobuf-specs-0.3.2 sigstore-rekor-types-0.0.18 tuf-5.1.0\n"
     ]
    }
   ],
   "source": [
    "!pip install torch\n",
    "!pip install kagglehub"
   ]
  },
  {
   "cell_type": "code",
   "execution_count": 2,
   "id": "a2b64379",
   "metadata": {},
   "outputs": [],
   "source": [
    "import torch\n",
    "import torch.nn as nn\n",
    "import numpy as np\n",
    "import pandas as pd\n",
    "import matplotlib.pyplot as plt\n",
    "from sklearn.preprocessing import MinMaxScaler\n",
    "import os\n",
    "import kagglehub\n",
    "from tqdm import tqdm"
   ]
  },
  {
   "cell_type": "code",
   "execution_count": 3,
   "id": "15820302",
   "metadata": {},
   "outputs": [],
   "source": [
    "def reduce_mem_usage(df, verbose=True):\n",
    "    numerics = ['int16', 'int32', 'int64', 'float16', 'float32', 'float64']\n",
    "    start_mem = df.memory_usage().sum() / 1024**2\n",
    "    for col in df.columns:\n",
    "        col_type = df[col].dtypes\n",
    "        if col_type in numerics:\n",
    "            c_min = df[col].min()\n",
    "            c_max = df[col].max()\n",
    "            if str(col_type)[:3] == 'int':\n",
    "                if c_min > np.iinfo(np.int8).min and c_max < np.iinfo(np.int8).max:\n",
    "                    df[col] = df[col].astype(np.int8)\n",
    "                elif c_min > np.iinfo(np.int16).min and c_max < np.iinfo(np.int16).max:\n",
    "                    df[col] = df[col].astype(np.int16)\n",
    "                elif c_min > np.iinfo(np.int32).min and c_max < np.iinfo(np.int32).max:\n",
    "                    df[col] = df[col].astype(np.int32)\n",
    "                elif c_min > np.iinfo(np.int64).min and c_max < np.iinfo(np.int64).max:\n",
    "                    df[col] = df[col].astype(np.int64)\n",
    "            else:\n",
    "                if c_min > np.finfo(np.float16).min and c_max < np.finfo(np.float16).max:\n",
    "                    df[col] = df[col].astype(np.float16)\n",
    "                elif c_min > np.finfo(np.float32).min and c_max < np.finfo(np.float32).max:\n",
    "                    df[col] = df[col].astype(np.float32)\n",
    "                else:\n",
    "                    df[col] = df[col].astype(np.float64)\n",
    "\n",
    "    end_mem = df.memory_usage().sum() / 1024**2\n",
    "    if verbose:\n",
    "        print('Memory usage after optimization is: {:.2f} MB'.format(end_mem))\n",
    "        print('Decreased by {:.1f}%'.format(100 * (start_mem - end_mem) / start_mem))\n",
    "\n",
    "    return df"
   ]
  },
  {
   "cell_type": "code",
   "execution_count": 4,
   "id": "c85c22fc",
   "metadata": {},
   "outputs": [
    {
     "name": "stdout",
     "output_type": "stream",
     "text": [
      "Downloading from https://www.kaggle.com/api/v1/datasets/download/mryanm/luflow-network-intrusion-detection-data-set?dataset_version_number=241...\n"
     ]
    },
    {
     "name": "stderr",
     "output_type": "stream",
     "text": [
      "100%|█████████████████████████████████████████████████████████████████████████████| 4.59G/4.59G [08:26<00:00, 9.74MB/s]"
     ]
    },
    {
     "name": "stdout",
     "output_type": "stream",
     "text": [
      "Extracting files...\n"
     ]
    },
    {
     "name": "stderr",
     "output_type": "stream",
     "text": [
      "\n",
      "100%|████████████████████████████████████████████████████████████████████████████████████| 4/4 [05:01<00:00, 75.33s/it]\n"
     ]
    }
   ],
   "source": [
    "# Path to the cached dataset\n",
    "cache_path = os.path.expanduser(\"~/.cache/kagglehub/datasets\")\n",
    "\n",
    "data_path = os.path.join(cache_path, \"mryanm/luflow-network-intrusion-detection-data-set/versions/240\")\n",
    "\n",
    "if not os.path.exists(data_path):\n",
    "    # Download latest version\n",
    "    data_path = kagglehub.dataset_download(\"mryanm/luflow-network-intrusion-detection-data-set\")\n",
    "\n",
    "# List to store dataframes\n",
    "df_list = []\n",
    "\n",
    "# Load and optimize each CSV\n",
    "for year in tqdm(sorted(os.listdir(data_path))):  # Sorting for consistency\n",
    "    year_path = os.path.join(data_path, year)\n",
    "    if os.path.isdir(year_path):\n",
    "        for month in sorted(os.listdir(year_path)):\n",
    "            month_path = os.path.join(year_path, month)\n",
    "            if os.path.isdir(month_path):\n",
    "                for day in sorted(os.listdir(month_path)):\n",
    "                    day_path = os.path.join(month_path, day)\n",
    "                    if os.path.isdir(day_path):\n",
    "                        for file in os.listdir(day_path):\n",
    "                            if file.endswith(\".csv\"):\n",
    "                                full_path = os.path.join(day_path, file)\n",
    "                                data = pd.read_csv(full_path)\n",
    "\n",
    "                                # Extract date info safely\n",
    "                                y, m, d = map(int, file.split(\".\")[:3])\n",
    "                                data[\"Year\"] = y\n",
    "                                data[\"Month\"] = m\n",
    "                                data[\"Day\"] = d\n",
    "\n",
    "                                # Reduce memory usage BEFORE adding to list\n",
    "                                data = reduce_mem_usage(data, verbose=False)\n",
    "                                df_list.append(data)\n",
    "\n",
    "# Final concatenation\n",
    "df = pd.concat(df_list, ignore_index=True)"
   ]
  },
  {
   "cell_type": "code",
   "execution_count": 5,
   "id": "f4e1ba15",
   "metadata": {},
   "outputs": [
    {
     "name": "stdout",
     "output_type": "stream",
     "text": [
      "<class 'pandas.core.frame.DataFrame'>\n",
      "RangeIndex: 206556547 entries, 0 to 206556546\n",
      "Data columns (total 19 columns):\n",
      " #   Column         Dtype  \n",
      "---  ------         -----  \n",
      " 0   avg_ipt        float32\n",
      " 1   bytes_in       int32  \n",
      " 2   bytes_out      int32  \n",
      " 3   dest_ip        int32  \n",
      " 4   dest_port      float64\n",
      " 5   entropy        float16\n",
      " 6   num_pkts_out   int16  \n",
      " 7   num_pkts_in    int16  \n",
      " 8   proto          int16  \n",
      " 9   src_ip         int32  \n",
      " 10  src_port       float64\n",
      " 11  time_end       int64  \n",
      " 12  time_start     int64  \n",
      " 13  total_entropy  float32\n",
      " 14  label          object \n",
      " 15  duration       float16\n",
      " 16  Year           int16  \n",
      " 17  Month          int8   \n",
      " 18  Day            int8   \n",
      "dtypes: float16(2), float32(2), float64(2), int16(4), int32(4), int64(2), int8(2), object(1)\n",
      "memory usage: 15.0+ GB\n"
     ]
    }
   ],
   "source": [
    "df.info()"
   ]
  },
  {
   "cell_type": "code",
   "execution_count": 6,
   "id": "2d9250ca",
   "metadata": {},
   "outputs": [
    {
     "name": "stderr",
     "output_type": "stream",
     "text": [
      "C:\\Users\\PRATHY~1\\AppData\\Local\\Temp/ipykernel_20996/1903800550.py:24: UserWarning: Creating a tensor from a list of numpy.ndarrays is extremely slow. Please consider converting the list to a single numpy.ndarray with numpy.array() before converting to a tensor. (Triggered internally at C:\\actions-runner\\_work\\pytorch\\pytorch\\pytorch\\torch\\csrc\\utils\\tensor_new.cpp:257.)\n",
      "  return torch.tensor(sequences, dtype=torch.float32), torch.tensor(labels, dtype=torch.float32)\n"
     ]
    }
   ],
   "source": [
    "# Load a real-world dataset (Stock Prices Example)\n",
    "# The original URL was returning a 404 error (Not Found)\n",
    "# Updated to a working URL for the AAPL stock data\n",
    "url = \"https://raw.githubusercontent.com/plotly/datasets/master/finance-charts-apple.csv\"\n",
    "df = pd.read_csv(url, parse_dates=['Date'], index_col='Date')\n",
    "\n",
    "# Rename the 'AAPL.Close' column to 'close' to match the original code\n",
    "df = df.rename(columns={'AAPL.Close': 'close'})\n",
    "\n",
    "# Select 'close' price for modeling\n",
    "data = df[['close']].values\n",
    "\n",
    "# Normalize the data\n",
    "scaler = MinMaxScaler(feature_range=(-1, 1))\n",
    "data = scaler.fit_transform(data)\n",
    "\n",
    "# Function to create sequences for RNNs\n",
    "def create_sequences(data, seq_length):\n",
    "    sequences = []\n",
    "    labels = []\n",
    "    for i in range(len(data) - seq_length):\n",
    "        sequences.append(data[i:i+seq_length])\n",
    "        labels.append(data[i+seq_length])\n",
    "    return torch.tensor(sequences, dtype=torch.float32), torch.tensor(labels, dtype=torch.float32)\n",
    "\n",
    "seq_length = 30  # Use past 30 days to predict the next day\n",
    "X, y = create_sequences(data, seq_length)\n",
    "\n",
    "# Reshape X to match PyTorch format (batch_size, sequence_length, features)\n",
    "X = X.view(X.shape[0], seq_length, 1)"
   ]
  },
  {
   "cell_type": "markdown",
   "id": "ec9ea6d8",
   "metadata": {},
   "source": [
    "## Define RNN, LSTM, and GRU Models"
   ]
  },
  {
   "cell_type": "code",
   "execution_count": 7,
   "id": "6c2a17ac",
   "metadata": {},
   "outputs": [],
   "source": [
    "\n",
    "class RNNModel(nn.Module):\n",
    "    def __init__(self, input_size, hidden_size, output_size):\n",
    "        super(RNNModel, self).__init__()\n",
    "        self.hidden_size = hidden_size\n",
    "        self.rnn = nn.RNN(input_size, hidden_size, batch_first=True)\n",
    "        self.fc = nn.Linear(hidden_size, output_size)\n",
    "\n",
    "    def forward(self, x):\n",
    "        out, _ = self.rnn(x)\n",
    "        out = self.fc(out[:, -1, :])  # Take the last time step's output\n",
    "        return out\n",
    "\n",
    "class LSTMModel(nn.Module):\n",
    "    def __init__(self, input_size, hidden_size, output_size):\n",
    "        super(LSTMModel, self).__init__()\n",
    "        self.hidden_size = hidden_size\n",
    "        self.lstm = nn.LSTM(input_size, hidden_size, batch_first=True)\n",
    "        self.fc = nn.Linear(hidden_size, output_size)\n",
    "\n",
    "    def forward(self, x):\n",
    "        out, _ = self.lstm(x)\n",
    "        out = self.fc(out[:, -1, :])  # Take the last time step's output\n",
    "        return out\n",
    "\n",
    "class GRUModel(nn.Module):\n",
    "    def __init__(self, input_size, hidden_size, output_size):\n",
    "        super(GRUModel, self).__init__()\n",
    "        self.hidden_size = hidden_size\n",
    "        self.gru = nn.GRU(input_size, hidden_size, batch_first=True)\n",
    "        self.fc = nn.Linear(hidden_size, output_size)\n",
    "\n",
    "    def forward(self, x):\n",
    "        out, _ = self.gru(x)\n",
    "        out = self.fc(out[:, -1, :])  # Take the last time step's output\n",
    "        return out\n"
   ]
  },
  {
   "cell_type": "markdown",
   "id": "51234c5c",
   "metadata": {},
   "source": [
    "## Training the Models and Recording Loss"
   ]
  },
  {
   "cell_type": "code",
   "execution_count": 8,
   "id": "70b37fcc",
   "metadata": {},
   "outputs": [
    {
     "name": "stdout",
     "output_type": "stream",
     "text": [
      "Epoch 0, Loss: 0.2707\n",
      "Epoch 10, Loss: 0.1000\n",
      "Epoch 20, Loss: 0.0234\n",
      "Epoch 30, Loss: 0.0165\n",
      "Epoch 40, Loss: 0.0153\n",
      "Epoch 50, Loss: 0.0138\n",
      "Epoch 60, Loss: 0.0130\n",
      "Epoch 70, Loss: 0.0124\n",
      "Epoch 80, Loss: 0.0120\n",
      "Epoch 90, Loss: 0.0117\n",
      "Epoch 0, Loss: 0.2484\n",
      "Epoch 10, Loss: 0.2033\n",
      "Epoch 20, Loss: 0.1422\n",
      "Epoch 30, Loss: 0.0466\n",
      "Epoch 40, Loss: 0.0334\n",
      "Epoch 50, Loss: 0.0248\n",
      "Epoch 60, Loss: 0.0216\n",
      "Epoch 70, Loss: 0.0191\n",
      "Epoch 80, Loss: 0.0173\n",
      "Epoch 90, Loss: 0.0157\n",
      "Epoch 0, Loss: 0.2451\n",
      "Epoch 10, Loss: 0.1618\n",
      "Epoch 20, Loss: 0.0892\n",
      "Epoch 30, Loss: 0.0182\n",
      "Epoch 40, Loss: 0.0149\n",
      "Epoch 50, Loss: 0.0152\n",
      "Epoch 60, Loss: 0.0130\n",
      "Epoch 70, Loss: 0.0118\n",
      "Epoch 80, Loss: 0.0114\n",
      "Epoch 90, Loss: 0.0110\n"
     ]
    }
   ],
   "source": [
    "\n",
    "def train_model(model, X, y, epochs=100, learning_rate=0.001):\n",
    "    criterion = nn.MSELoss()\n",
    "    optimizer = torch.optim.Adam(model.parameters(), lr=learning_rate)\n",
    "    losses = []\n",
    "\n",
    "    for epoch in range(epochs):\n",
    "        optimizer.zero_grad()\n",
    "        output = model(X)\n",
    "        loss = criterion(output, y.view(-1, 1))\n",
    "        loss.backward()\n",
    "        optimizer.step()\n",
    "        losses.append(loss.item())\n",
    "\n",
    "        if epoch % 10 == 0:\n",
    "            print(f'Epoch {epoch}, Loss: {loss.item():.4f}')\n",
    "\n",
    "    return losses\n",
    "\n",
    "# Initialize models\n",
    "rnn_model = RNNModel(input_size=1, hidden_size=64, output_size=1)\n",
    "lstm_model = LSTMModel(input_size=1, hidden_size=64, output_size=1)\n",
    "gru_model = GRUModel(input_size=1, hidden_size=64, output_size=1)\n",
    "\n",
    "# Train models and record loss\n",
    "rnn_losses = train_model(rnn_model, X, y)\n",
    "lstm_losses = train_model(lstm_model, X, y)\n",
    "gru_losses = train_model(gru_model, X, y)\n"
   ]
  },
  {
   "cell_type": "markdown",
   "id": "ccd292bf",
   "metadata": {},
   "source": [
    "## Visualizing the Training Loss"
   ]
  },
  {
   "cell_type": "code",
   "execution_count": 9,
   "id": "0e2a9dc1",
   "metadata": {},
   "outputs": [
    {
     "data": {
      "image/png": "[encoded data removed]",
      "text/plain": [
       "<Figure size 720x432 with 1 Axes>"
      ]
     },
     "metadata": {
      "needs_background": "light"
     },
     "output_type": "display_data"
    }
   ],
   "source": [
    "# Plot Training Loss Curves\n",
    "plt.figure(figsize=(10,6))\n",
    "plt.plot(rnn_losses, label='RNN Loss', linestyle='dashed', marker='o')\n",
    "plt.plot(lstm_losses, label='LSTM Loss', linestyle='dotted', marker='s')\n",
    "plt.plot(gru_losses, label='GRU Loss', linestyle='solid', marker='x')\n",
    "\n",
    "plt.xlabel('Epochs')\n",
    "plt.ylabel('Loss')\n",
    "plt.title('Training Loss Comparison: RNN vs LSTM vs GRU')\n",
    "plt.legend()\n",
    "plt.grid(True)\n",
    "plt.show()"
   ]
  },
  {
   "cell_type": "markdown",
   "id": "5069ce56",
   "metadata": {},
   "source": [
    "## Testing the Models on New Data"
   ]
  },
  {
   "cell_type": "code",
   "execution_count": 10,
   "id": "2262d5f4",
   "metadata": {},
   "outputs": [
    {
     "name": "stdout",
     "output_type": "stream",
     "text": [
      "RNN Prediction: 133.88306\n",
      "LSTM Prediction: 132.65042\n",
      "GRU Prediction: 133.92499\n"
     ]
    }
   ],
   "source": [
    "def predict(model, input_seq):\n",
    "    model.eval()\n",
    "    input_seq = torch.tensor(input_seq, dtype=torch.float32).view(1, seq_length, 1)\n",
    "    with torch.no_grad():\n",
    "        prediction = model(input_seq)\n",
    "    return scaler.inverse_transform(prediction.numpy().reshape(-1, 1))[0][0]\n",
    "\n",
    "# Example Test Case (Predict Next Day's Closing Price)\n",
    "test_seq = data[-seq_length:].reshape(-1, 1)  # Use the last 30 days\n",
    "print(\"RNN Prediction:\", predict(rnn_model, test_seq))\n",
    "print(\"LSTM Prediction:\", predict(lstm_model, test_seq))\n",
    "print(\"GRU Prediction:\", predict(gru_model, test_seq))"
   ]
  }
 ],
 "metadata": {
  "kernelspec": {
   "display_name": "Python 3 (ipykernel)",
   "language": "python",
   "name": "python3"
  },
  "language_info": {
   "codemirror_mode": {
    "name": "ipython",
    "version": 3
   },
   "file_extension": ".py",
   "mimetype": "text/x-python",
   "name": "python",
   "nbconvert_exporter": "python",
   "pygments_lexer": "ipython3",
   "version": "3.9.7"
  }
 },
 "nbformat": 4,
 "nbformat_minor": 5
}
